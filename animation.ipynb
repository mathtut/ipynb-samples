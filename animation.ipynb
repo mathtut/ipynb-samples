{
 "metadata": {
  "name": "",
  "signature": "sha256:49ae913694980ab9048df76801b1afa6bacfa45a86d5833a348164a1914f6f61"
 },
 "nbformat": 3,
 "nbformat_minor": 0,
 "worksheets": [
  {
   "cells": [
    {
     "cell_type": "heading",
     "level": 1,
     "metadata": {},
     "source": [
      "Animating a Solution of ODE"
     ]
    },
    {
     "cell_type": "markdown",
     "metadata": {},
     "source": [
      "## [mathtut.info](http://mathtut.info)\n",
      "\n",
      "2014/08/30"
     ]
    },
    {
     "cell_type": "markdown",
     "metadata": {},
     "source": [
      "To make an in-line animation in the IPython notebook you need to use IPython.core.display.display and IPython.core.display.clear_output.\n",
      "\n",
      "As of this writing (2014/08/30) in-line animations don't seem to move very smoothly.\n",
      "\n",
      "On the other hand matplotlib.animation works fine, though the plotting window is out of the browser."
     ]
    },
    {
     "cell_type": "markdown",
     "metadata": {},
     "source": [
      "##Thanks to:\n",
      "\n",
      "* [Simple animations Using clear_output]( http://nbviewer.ipython.org/github/ipython/ipython/blob/2.x/examples/Notebook/Animations%20Using%20clear_output.ipynb\n",
      ")\n",
      "* [blog: Matplotlib Animation Tutorial](http://jakevdp.github.io/blog/2012/08/18/matplotlib-animation-tutorial/\n",
      ")\n",
      "* [animation example code: animate_decay.py](http://matplotlib.org/1.4.0/examples/animation/animate_decay.html)\n",
      "* [animation example code: simple_3danim.py](http://matplotlib.org/examples/animation/simple_3danim.html)\n",
      "* [Stackoverflow: Matplotlib animation: first frame remains in canvas when using blit](http://stackoverflow.com/questions/21439489/matplotlib-animation-first-frame-remains-in-canvas-when-using-blit)"
     ]
    },
    {
     "cell_type": "heading",
     "level": 2,
     "metadata": {},
     "source": [
      "Preparing Data"
     ]
    },
    {
     "cell_type": "code",
     "collapsed": false,
     "input": [
      "import numpy as np\n",
      "import scipy as sp\n",
      "from scipy.integrate import odeint\n",
      "\n",
      " \n",
      "def func(x, t):\n",
      "    return [-x[1] - x[2],\n",
      "            x[0] + a*x[1],\n",
      "            b + x[2]*(x[0] - c)\n",
      "           ]\n",
      " \n",
      "x0 = np.array([ 5.35444152, -3.50492876,  3.58470363])\n",
      "a = 0.432; b = 2.0; c = 4.0\n",
      "t = np.linspace(0, 20, 201)\n",
      " \n",
      "x = odeint(func, x0, t)\n",
      "#xx = np.column_stack(x)\n",
      "xx = x.T"
     ],
     "language": "python",
     "metadata": {},
     "outputs": [],
     "prompt_number": 1
    },
    {
     "cell_type": "heading",
     "level": 2,
     "metadata": {},
     "source": [
      "Making an Animation"
     ]
    },
    {
     "cell_type": "code",
     "collapsed": false,
     "input": [
      "import matplotlib.pyplot as plt\n",
      "from mpl_toolkits.mplot3d import Axes3D"
     ],
     "language": "python",
     "metadata": {},
     "outputs": [],
     "prompt_number": 2
    },
    {
     "cell_type": "markdown",
     "metadata": {},
     "source": [
      "### In-line animation"
     ]
    },
    {
     "cell_type": "code",
     "collapsed": false,
     "input": [
      "from IPython.core.display import display, clear_output\n",
      "%matplotlib inline\n",
      "import time"
     ],
     "language": "python",
     "metadata": {},
     "outputs": [],
     "prompt_number": 3
    },
    {
     "cell_type": "code",
     "collapsed": true,
     "input": [
      "fig1 = plt.figure(figsize=(8,6))\n",
      "ax1 = fig1.add_subplot(111, projection='3d')\n",
      "ax1.hold(False)\n",
      "plt.show()\n",
      "\n",
      "for i in range(len(t)-3):\n",
      "    ax1.plot(xx[0][i:i+3], xx[1][i:i+3], xx[2][i:i+3], 'o')\n",
      "    ax1.set_xlim3d([-5,7]); ax1.set_ylim3d([-7,4]); ax1.set_zlim3d([-1,9])    \n",
      "    ax1.set_xticks([]); ax1.set_yticks([]); ax1.set_zticks([])        \n",
      "    clear_output(wait=True)\n",
      "    display(fig1)\n",
      "    time.sleep(0.05)\n",
      "\n",
      "    "
     ],
     "language": "python",
     "metadata": {},
     "outputs": [
      {
       "metadata": {},
       "output_type": "display_data",
       "png": "[encoded data removed]",
       "text": [
        "<matplotlib.figure.Figure at 0x1065967d0>"
       ]
      }
     ],
     "prompt_number": 4
    },
    {
     "cell_type": "markdown",
     "metadata": {},
     "source": [
      "### Using matplotlib.animation"
     ]
    },
    {
     "cell_type": "code",
     "collapsed": false,
     "input": [
      "import matplotlib.animation as animation\n",
      "%matplotlib qt4"
     ],
     "language": "python",
     "metadata": {},
     "outputs": [],
     "prompt_number": 5
    },
    {
     "cell_type": "code",
     "collapsed": true,
     "input": [
      "fig2 = plt.figure(figsize=(8,6))\n",
      "ax2 = fig2.add_subplot(111, projection='3d')\n",
      "#ax2 = p3.Axes3D(fig2)\n",
      "\n",
      "def data_gen():\n",
      "    i = 0\n",
      "    while i < len(t)-4:\n",
      "\n",
      "        yield xx[0][i:i+3], xx[1][i:i+3], xx[2][i:i+3]\n",
      "        i += 1\n",
      "        \n",
      "\n",
      "\n",
      "line = ax2.plot([],[],[], 'o')[0]\n",
      "ax2.set_xlim3d([-5,7]); ax2.set_ylim3d([-7,4]); ax2.set_zlim3d([-1,9])    \n",
      "ax2.set_xticks([]); ax2.set_yticks([]); ax2.set_zticks([])\n",
      "\n",
      "def init():\n",
      "    line.set_visible(False)\n",
      "    return line,\n",
      "\n",
      "def run(data):\n",
      "    x, y, z = data\n",
      "    line.set_data(np.array([x,y]))\n",
      "    line.set_3d_properties(z)\n",
      "    line.set_visible(True)\n",
      "    \n",
      "    return line,\n",
      "\n",
      "ani = animation.FuncAnimation(fig2, run, data_gen, init_func = init,\n",
      "                              blit=True, interval=100, repeat=True)\n",
      "plt.show()\n",
      "\n",
      "    "
     ],
     "language": "python",
     "metadata": {},
     "outputs": [],
     "prompt_number": 6
    }
   ],
   "metadata": {}
  }
 ]
}
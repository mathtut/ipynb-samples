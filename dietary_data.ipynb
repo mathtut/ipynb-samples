{
 "metadata": {
  "name": "",
  "signature": "sha256:9d341f61e135d16df0ae080ad8b159754122ba3be3e1109d99ce110e9af769ad"
 },
 "nbformat": 3,
 "nbformat_minor": 0,
 "worksheets": [
  {
   "cells": [
    {
     "cell_type": "heading",
     "level": 1,
     "metadata": {},
     "source": [
      "Exploring NHANES Dietary Data with pandas"
     ]
    },
    {
     "cell_type": "markdown",
     "metadata": {},
     "source": [
      "## [mathtut.info](http://mathtut.info)"
     ]
    },
    {
     "cell_type": "markdown",
     "metadata": {},
     "source": [
      "## Thanks to:\n",
      "\n",
      "* [NHANES 2009-2010 Dietary Data](http://wwwn.cdc.gov/nchs/nhanes/search/datapage.aspx?Component=Dietary&CycleBeginYear=2009)\n",
      "* [xport package](https://pypi.python.org/pypi/xport/0.1.0)\n",
      "* [ARC/CSCAR Python Workshop (by Kerby Shedden)](http://dept.stat.lsa.umich.edu/~kshedden/Python-Workshop/overview.html)"
     ]
    },
    {
     "cell_type": "heading",
     "level": 2,
     "metadata": {},
     "source": [
      "About Data"
     ]
    },
    {
     "cell_type": "markdown",
     "metadata": {},
     "source": [
      "[Data Description](http://wwwn.cdc.gov/nchs/nhanes/2009-2010/DSQIDS_F.htm)"
     ]
    },
    {
     "cell_type": "markdown",
     "metadata": {},
     "source": [
      "###DSD090\n",
      "\n",
      "| Code or Value | Value Description | Count | Cumulative | Skip to Item |\n",
      "|:-------------:|:------------------|:------|:-----------|:-------------|\n",
      "| 0 to 23360 | Range of Values | 8355 | 8355| |\n",
      "| 7777777 | Refused | 2 | 8357| |\n",
      "| 9999999 | Don't know |19 | 8376| |\n",
      "| .       | Missing | 24 | 8400| | "
     ]
    },
    {
     "cell_type": "markdown",
     "metadata": {},
     "source": [
      "### DSD103\n",
      "\n",
      "| Code or Value | Value Description | Count | Cumulative | Skip to Item |\n",
      "|:-------------:|:------------------|:------|:-----------|:-------------|\n",
      "| 0 to 30 | Range of Values | 8091 | 8091 | |\n",
      "| 7777 | Refused | 2 | 8093| |\n",
      "| 9999 | Don't know | 7 | 8100 | |\n",
      "| .       | Missing | 300 | 8400 | | |\n",
      "\n",
      "\n"
     ]
    },
    {
     "cell_type": "heading",
     "level": 2,
     "metadata": {},
     "source": [
      "Reading Data"
     ]
    },
    {
     "cell_type": "code",
     "collapsed": false,
     "input": [
      "import xport\n",
      "import pandas as pd\n",
      "import os\n",
      "import matplotlib.pyplot as plt\n",
      "%matplotlib inline"
     ],
     "language": "python",
     "metadata": {},
     "outputs": [],
     "prompt_number": 1
    },
    {
     "cell_type": "markdown",
     "metadata": {},
     "source": [
      "When execuging this notebook for the first time you need to run the following cell block:"
     ]
    },
    {
     "cell_type": "code",
     "collapsed": false,
     "input": [
      "# import urllib\n",
      "# import os\n",
      "# mkdir data\n",
      "# dsource = \"http://wwwn.cdc.gov/nchs/nhanes/2009-2010/DSQIDS_F.XPT\"\n",
      "# urllib.urlretrieve(dsource, os.path.join('data', 'nhanes.xpt'))"
     ],
     "language": "python",
     "metadata": {},
     "outputs": [],
     "prompt_number": 2
    },
    {
     "cell_type": "markdown",
     "metadata": {},
     "source": [
      "The dowonloaded file is saved in the XPT format. To read it the xport package is required, which you can install, say,  with pip."
     ]
    },
    {
     "cell_type": "code",
     "collapsed": false,
     "input": [
      "with xport.XportReader(os.path.join('data','nhanes.xpt')) as reader:\n",
      "    D = [row for row in reader]\n",
      "    \n",
      "Ix = [d.pop(\"SEQN\") for d in D]\n",
      "df = pd.DataFrame(D, index=Ix)"
     ],
     "language": "python",
     "metadata": {},
     "outputs": [],
     "prompt_number": 3
    },
    {
     "cell_type": "heading",
     "level": 2,
     "metadata": {},
     "source": [
      "Adjusting Data"
     ]
    },
    {
     "cell_type": "markdown",
     "metadata": {},
     "source": [
      "Here we inspect effective responses to DSD090 and DSD103. For that purpose we extract the subsets."
     ]
    },
    {
     "cell_type": "code",
     "collapsed": false,
     "input": [
      "def getValueTypeFunc(data):\n",
      "    if data == \"DSD090\":\n",
      "        r1 = 0; r2 = 23360\n",
      "        rfsd = 7777777; dtk = 9999999\n",
      "    elif data == \"DSD103\":\n",
      "        r1 = 0; r2 = 30\n",
      "        rfsd = 7777; dtk = 9999\n",
      "    else:\n",
      "        return None\n",
      "\n",
      "    def vtFunc(x):\n",
      "        if (x >= r1) and (x <= r2):\n",
      "            return \"Date\"\n",
      "        elif x == rfsd:\n",
      "            return \"Refused\"\n",
      "        elif x == dtk:\n",
      "            return \"Don't Know\"\n",
      "        else:\n",
      "            return \"Others\"\n",
      "    \n",
      "    return vtFunc"
     ],
     "language": "python",
     "metadata": {},
     "outputs": [],
     "prompt_number": 4
    },
    {
     "cell_type": "code",
     "collapsed": false,
     "input": [
      "df[\"DSD090 Type\"] = df[\"DSD090\"].map(getValueTypeFunc(\"DSD090\"))\n",
      "df[\"DSD103 Type\"] = df[\"DSD103\"].map(getValueTypeFunc(\"DSD103\"))"
     ],
     "language": "python",
     "metadata": {},
     "outputs": [],
     "prompt_number": 5
    },
    {
     "cell_type": "markdown",
     "metadata": {},
     "source": [
      "###Note\n",
      "\n",
      "As you see below the values for \"Missing\" seem to be set to zero. I don't know why."
     ]
    },
    {
     "cell_type": "code",
     "collapsed": false,
     "input": [
      "df[\"DSD090 Type\"].value_counts()"
     ],
     "language": "python",
     "metadata": {},
     "outputs": [
      {
       "metadata": {},
       "output_type": "pyout",
       "prompt_number": 6,
       "text": [
        "Date          8379\n",
        "Don't Know      19\n",
        "Refused          2\n",
        "dtype: int64"
       ]
      }
     ],
     "prompt_number": 6
    },
    {
     "cell_type": "code",
     "collapsed": false,
     "input": [
      "df[\"DSD103 Type\"].value_counts()"
     ],
     "language": "python",
     "metadata": {},
     "outputs": [
      {
       "metadata": {},
       "output_type": "pyout",
       "prompt_number": 7,
       "text": [
        "Date          8391\n",
        "Don't Know       7\n",
        "Refused          2\n",
        "dtype: int64"
       ]
      }
     ],
     "prompt_number": 7
    },
    {
     "cell_type": "heading",
     "level": 2,
     "metadata": {},
     "source": [
      "Plotting Data"
     ]
    },
    {
     "cell_type": "code",
     "collapsed": false,
     "input": [
      "fig = plt.figure(figsize=(12,6))\n",
      "ax1 = fig.add_subplot(121, aspect=4); ax2 = fig.add_subplot(122, aspect=0.007)\n",
      "ax1.set_title(\"How long supplement taken (days)?\")\n",
      "ax2.set_title(\"Days supplement taken, past 30 days\")\n",
      "df[df[\"DSD090 Type\"] == \"Date\"][\"DSD090\"].hist(ax=ax1)\n",
      "df[df[\"DSD103 Type\"] == \"Date\"][\"DSD103\"].hist(ax=ax2)"
     ],
     "language": "python",
     "metadata": {},
     "outputs": [
      {
       "metadata": {},
       "output_type": "pyout",
       "prompt_number": 8,
       "text": [
        "<matplotlib.axes.AxesSubplot at 0x107becd50>"
       ]
      },
      {
       "metadata": {},
       "output_type": "display_data",
       "png": "[encoded data removed]",
       "text": [
        "<matplotlib.figure.Figure at 0x107bec990>"
       ]
      }
     ],
     "prompt_number": 8
    },
    {
     "cell_type": "code",
     "collapsed": false,
     "input": [
      "bins = [100*i for i in range(0,21)]; bins.append(2361)\n",
      "fig = plt.figure(figsize=(8,6))\n",
      "ax = fig.add_subplot(111)\n",
      "ax.set_xlabel(\"Days\"); ax.set_ylabel(\"Cumulative Rate\")\n",
      "ax.set_xlim((0,2000)); ax.set_ylim((0,1))\n",
      "df[df[\"DSD090 Type\"] == \"Date\"][\"DSD090\"].hist(\n",
      "    ax = ax, bins=bins, cumulative=True, normed=True)"
     ],
     "language": "python",
     "metadata": {},
     "outputs": [
      {
       "metadata": {},
       "output_type": "pyout",
       "prompt_number": 9,
       "text": [
        "<matplotlib.axes.AxesSubplot at 0x107f1e750>"
       ]
      },
      {
       "metadata": {},
       "output_type": "display_data",
       "png": "[encoded data removed]",
       "text": [
        "<matplotlib.figure.Figure at 0x107f1e610>"
       ]
      }
     ],
     "prompt_number": 9
    }
   ],
   "metadata": {}
  }
 ]
}